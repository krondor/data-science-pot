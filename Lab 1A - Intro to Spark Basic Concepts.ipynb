{
    "nbformat": 4, 
    "cells": [
        {
            "cell_type": "markdown", 
            "metadata": {}, 
            "source": "# Introduction to Apache Spark: Basic Concepts\nThis notebook guides you through the basic concepts to start working with Apache Spark, including how to set up your environment, create and analyze data sets, and work with data files.\n\nThis notebook uses pySpark, the Python API for Spark. Some knowledge of Python is recommended. This notebook runs in either Spark 1.6 or 2.0.\n\nIf you are new to notebooks, here's how the user interface works: [Parts of a notebook](http://datascience.ibm.com/docs/content/analyze-data/parts-of-a-notebook.html)"
        }, 
        {
            "cell_type": "markdown", 
            "metadata": {}, 
            "source": "## About Apache Spark\nApache Spark is a fast and general-purpose cluster computing system. It provides high-level APIs in Java, Scala, Python and R, and an optimized engine that supports general execution graphs. It also supports a rich set of higher-level tools including Spark SQL for processing structured data, MLlib for machine learning, GraphX for graph processing, and Spark Streaming.\n\n<img src='https://github.com/carloapp2/SparkPOT/blob/master/spark.png?raw=true' width=\"50%\" height=\"50%\"></img>\n\n\nA Spark program has a driver program and worker programs. Worker programs run on cluster nodes or in local threads. Data sets are distributed\u001d across workers. \n\n<img src='https://github.com/carloapp2/SparkPOT/blob/master/Spark%20Architecture.png?raw=true' width=\"50%\" height=\"50%\"></img>"
        }, 
        {
            "cell_type": "markdown", 
            "metadata": {}, 
            "source": "## Table of Contents\nIn the first four sections of this notebook, you'll learn about Spark with very simple examples. In the last two sections, you'll use what you learned to analyze data files that have more realistic data sets.\n\n1. [Work with the SparkContext](#sparkcontext)<br>\n    1.1 [Invoke the SparkContext](#sparkcontext1)<br>\n    1.2 [Check the Spark version](#sparkcontext2)<br>\n2. [Work with RDDs](#rdd)<br>\n    2.1 [Create a collection](#rdd1)<br>\n    2.2 [Create an RDD](#rdd2)<br>\n    2.3 [View the data](#rdd3)<br>\n    2.4 [Create another RDD](#rdd4)<br>\n3. [Manipulate data in RDDs](#trans)<br>\n    3.1 [Update numeric values](#trans1)<br>\n    3.2 [Add numbers in an array](#trans2)<br>\n    3.3 [Split and count strings](#trans3)<br>\n    3.4 [Counts words with a pair RDD](#trans4)<br>\n4. [Filter data](#filter)<br>\n5. [Analyze text data from a file](#wordfile)<br>\n    5.1 [Get the data from a URL](#wordfile1)<br>\n    5.2 [Create an RDD from the file](#wordfile2)<br>\n    5.3 [Filter for a word](#wordfile3)<br>\n    5.4 [Count instances of a string at the beginning of words](#wordfile4)<br>\n    5.5 [Count instances of a string within words](#wordfile5)<br>\n6. [Analyze numeric data from a file](#numfile)<br>\n7. [Summary and next steps](#summary)"
        }, 
        {
            "cell_type": "markdown", 
            "metadata": {}, 
            "source": "<a id=\"sparkcontext\"></a>\n## 1. Work with the SparkContext object\n\nThe Apache Spark driver application uses the SparkContext object to allow a programming interface to interact with the driver application. The SparkContext object tells Spark how and where to access a cluster.\n\nThe Data Science Experience notebook environment predefines the Spark context for you.\n\nIn other environments, you need to pick an interpreter (for example, pyspark for Python) and create a SparkConf object to initialize a SparkContext object. For example:\n<br>\n`from pyspark import SparkContext, SparkConf`<br>\n`conf = SparkConf().setAppName(appName).setMaster(master)`<br>\n`sc = SparkContext(conf=conf)`<br>\n\n<a id=\"sparkcontext1\"></a>\n### 1.1 Invoke the SparkContext\nRun the following cell to invoke the SparkContext:"
        }, 
        {
            "cell_type": "code", 
            "metadata": {}, 
            "source": "sc", 
            "outputs": [], 
            "execution_count": null
        }, 
        {
            "cell_type": "markdown", 
            "metadata": {}, 
            "source": "<a id=\"sparkcontext2\"></a>\n### 1.2 Check the Spark version\nCheck the version of the Spark driver application:"
        }, 
        {
            "cell_type": "code", 
            "metadata": {}, 
            "source": "sc.version", 
            "outputs": [], 
            "execution_count": null
        }, 
        {
            "cell_type": "markdown", 
            "metadata": {}, 
            "source": "The Data Science Experience also supports other versions of Spark."
        }, 
        {
            "cell_type": "markdown", 
            "metadata": {}, 
            "source": "<a id=\"rdd\"></a>\n## 2. Work with Resilient Distributed Datasets\nApache Spark uses an abstraction for working with data called a Resilient Distributed Dataset (RDD). An RDD is a collection of elements that can be operated on in parallel. RDDs are immutable, so you can't update the data in them. To update data in an RDD, you must create a new RDD. In Apache Spark, all work is done by creating new RDDs, transforming existing RDDs, or using RDDs to compute results. When working with RDDs, the Spark driver application automatically distributes the work across the cluster.\n\nYou can construct RDDs by parallelizing existing Python collections (lists), by manipulating RDDs, or by manipulating files in HDFS or any other storage system.\n\nYou can run these types of methods on RDDs: \n - Actions: query the data and return values\n - Transformations: manipulate data values and return pointers to new RDDs. \n\nFind more information on Python methods in the [PySpark documentation](http://spark.apache.org/docs/latest/api/python/pyspark.html).\n\n<a id=\"rdd1\"></a>\n### 2.1 Create a collection\nCreate a Python collection of the numbers 1 - 10:"
        }, 
        {
            "cell_type": "code", 
            "metadata": {}, 
            "source": "x = [1, 2, 3, 4, 5, 6, 7, 8, 9, 10]", 
            "outputs": [], 
            "execution_count": null
        }, 
        {
            "cell_type": "markdown", 
            "metadata": {}, 
            "source": "<a id=\"rdd2\"></a>\n### 2.2 Create an RDD \nPut the collection into an RDD named `x_nbr_rdd` using the `parallelize` method:"
        }, 
        {
            "cell_type": "code", 
            "metadata": {}, 
            "source": "x_nbr_rdd = sc.parallelize(x)", 
            "outputs": [], 
            "execution_count": null
        }, 
        {
            "cell_type": "markdown", 
            "metadata": {}, 
            "source": "Notice that there's no return value. The `parallelize` method didn't compute a result, which means it's a transformation. Spark just recorded how to create the RDD."
        }, 
        {
            "cell_type": "markdown", 
            "metadata": {}, 
            "source": "<a id=\"rdd3\"></a>\n### 2.3 View the data \nView the first element in the RDD:"
        }, 
        {
            "cell_type": "code", 
            "metadata": {}, 
            "source": "x_nbr_rdd.first()", 
            "outputs": [], 
            "execution_count": null
        }, 
        {
            "cell_type": "markdown", 
            "metadata": {}, 
            "source": "Each number in the collection is in a different element in the RDD. Because the `first()` method returned a value, it is an action. \n\nNow view the first five elements in the RDD:"
        }, 
        {
            "cell_type": "code", 
            "metadata": {}, 
            "source": "x_nbr_rdd.take(5)", 
            "outputs": [], 
            "execution_count": null
        }, 
        {
            "cell_type": "markdown", 
            "metadata": {}, 
            "source": "<a id=\"rdd4\"></a>\n### 2.4 Create another RDD \nCreate a Python collection that contains strings:"
        }, 
        {
            "cell_type": "code", 
            "metadata": {}, 
            "source": "y = [\"Hello Human\", \"My Name is Spark\"]", 
            "outputs": [], 
            "execution_count": null
        }, 
        {
            "cell_type": "markdown", 
            "metadata": {}, 
            "source": "Put the collection into an RDD:"
        }, 
        {
            "cell_type": "code", 
            "metadata": {}, 
            "source": "y_str_rdd = sc.parallelize(y)", 
            "outputs": [], 
            "execution_count": null
        }, 
        {
            "cell_type": "markdown", 
            "metadata": {}, 
            "source": "View the first element in the RDD:"
        }, 
        {
            "cell_type": "code", 
            "metadata": {}, 
            "source": "y_str_rdd.take(1)", 
            "outputs": [], 
            "execution_count": null
        }, 
        {
            "cell_type": "markdown", 
            "metadata": {}, 
            "source": "You created the string \"Hello Human\" and you returned it as the first element of the RDD. To analyze a set of words, you can map each word into an RDD element."
        }, 
        {
            "cell_type": "markdown", 
            "metadata": {}, 
            "source": "<a id=\"trans\"></a>\n## 3. Manipulate data in RDDs\n\nRemember that to manipulate data, you use transformation functions.\n\nHere are some common Python transformation functions that you'll be using in this notebook:\n\n - `map(func)`: returns a new RDD with the results of running the specified function on each element  \n - `filter(func)`: returns a new RDD with the elements for which the specified function returns true   \n - `distinct([numTasks]))`: returns a new RDD that contains the distinct elements of the source RDD\n - `flatMap(func)`: returns a new RDD by first running the specified function on all elements, returning 0 or more results for each original element, and then flattening the results into individual elements\n\nYou can also create functions that run a single expression and don't have a name with the Python `lambda` keyword. For example, this function returns the sum of its arguments: `lambda a , b : a + b`.\n\n<a id=\"trans1\"></a>\n### 3.1 Update numeric values\nRun the `map()` function with the `lambda` keyword to replace each element, X, in your first RDD (the one that has numeric values) with X+1. Because RDDs are immutable, you need to specify a new RDD name."
        }, 
        {
            "cell_type": "code", 
            "metadata": {}, 
            "source": "x_nbr_rdd_2 = x_nbr_rdd.map(lambda x: x+1)", 
            "outputs": [], 
            "execution_count": null
        }, 
        {
            "cell_type": "markdown", 
            "metadata": {}, 
            "source": "Now look at the elements of the new RDD: "
        }, 
        {
            "cell_type": "code", 
            "metadata": {}, 
            "source": "x_nbr_rdd_2.collect()", 
            "outputs": [], 
            "execution_count": null
        }, 
        {
            "cell_type": "markdown", 
            "metadata": {}, 
            "source": "Be careful with the `collect` method! It returns __all__ elements of the RDD to the driver. Returning a large data set might be not be very useful. No-one wants to scroll through a million rows!"
        }, 
        {
            "cell_type": "markdown", 
            "metadata": {}, 
            "source": "<a id=\"trans2\"></a>\n### 3.2 Add numbers in an array\nAn array of values is a common data format where multiple values are contained in one element. You can manipulate the individual values if you split them up into separate elements.\n\nCreate an array of numbers by including quotation marks around the whole set of numbers. If you omit the quotation marks, you get a collection of numbers instead of an array."
        }, 
        {
            "cell_type": "code", 
            "metadata": {}, 
            "source": "X = [\"1,2,3,4,5,6,7,8,9,10\"]", 
            "outputs": [], 
            "execution_count": null
        }, 
        {
            "cell_type": "markdown", 
            "metadata": {}, 
            "source": "Create an RDD for the array:"
        }, 
        {
            "cell_type": "code", 
            "metadata": {}, 
            "source": "y_rd = sc.parallelize(X)", 
            "outputs": [], 
            "execution_count": null
        }, 
        {
            "cell_type": "markdown", 
            "metadata": {}, 
            "source": "Split the values at commas and add values in the positions 2 and 9 in the array. Keep in mind that an array starts with position 0. Use a backslash character, \\, to break the line of code for clarity."
        }, 
        {
            "cell_type": "code", 
            "metadata": {}, 
            "source": "Sum_rd = y_rd.map(lambda y: y.split(\",\")).\\\nmap(lambda y: (int(y[2])+int(y[9])))", 
            "outputs": [], 
            "execution_count": null
        }, 
        {
            "cell_type": "markdown", 
            "metadata": {}, 
            "source": "Now return the value of the sum:"
        }, 
        {
            "cell_type": "code", 
            "metadata": {}, 
            "source": "Sum_rd.first()", 
            "outputs": [], 
            "execution_count": null
        }, 
        {
            "cell_type": "markdown", 
            "metadata": {}, 
            "source": "<a id=\"trans3\"></a>\n### 3.3 Split and count text strings\n\nCreate an RDD with a text string and show the first element:"
        }, 
        {
            "cell_type": "code", 
            "metadata": {}, 
            "source": "Words = [\"Hello Human. I'm Apache Spark and I love running analysis on data.\"]\nwords_rd = sc.parallelize(Words)\nwords_rd.first()", 
            "outputs": [], 
            "execution_count": null
        }, 
        {
            "cell_type": "markdown", 
            "metadata": {}, 
            "source": "Split the string into separate lines at the space characters and look at the first element:"
        }, 
        {
            "cell_type": "code", 
            "metadata": {}, 
            "source": "Words_rd2 = words_rd.map(lambda line: line.split(\" \"))\nWords_rd2.first()", 
            "outputs": [], 
            "execution_count": null
        }, 
        {
            "cell_type": "markdown", 
            "metadata": {}, 
            "source": "Count the number of elements in this RDD with the `count()` method:"
        }, 
        {
            "cell_type": "code", 
            "metadata": {}, 
            "source": "Words_rd2.count()", 
            "outputs": [], 
            "execution_count": null
        }, 
        {
            "cell_type": "markdown", 
            "metadata": {}, 
            "source": "Of course, you already knew that there was only one element because you ran the `first()` method and it returned the whole string. Splitting the string into multiple lines did not create multiple elements."
        }, 
        {
            "cell_type": "markdown", 
            "metadata": {}, 
            "source": "Now split the string again, but this time with the `flatmap()` method, and look at the first three elements:"
        }, 
        {
            "cell_type": "code", 
            "metadata": {}, 
            "source": "words_rd2 = words_rd.flatMap(lambda line: line.split(\" \"))\nwords_rd2.take(3)", 
            "outputs": [], 
            "execution_count": null
        }, 
        {
            "cell_type": "markdown", 
            "metadata": {}, 
            "source": "This time each word is separated into its own element."
        }, 
        {
            "cell_type": "markdown", 
            "metadata": {}, 
            "source": "<a id=\"trans4\"></a>\n### 3.4 Count words with a pair RDD\nA common way to count the number of instances of words in an RDD is to create a pair RDD. A pair RDD converts each word into a key-value pair: the word is the key and the number 1 is the value. Because the values are all 1, when you add the  values for a particular word, you get the number of instances of that word.\n\nCreate an RDD:"
        }, 
        {
            "cell_type": "code", 
            "metadata": {}, 
            "source": "z = [\"First,Line\", \"Second,Line\", \"and,Third,Line\"]\nz_str_rdd = sc.parallelize(z)\nz_str_rdd.first()", 
            "outputs": [], 
            "execution_count": null
        }, 
        {
            "cell_type": "markdown", 
            "metadata": {}, 
            "source": "Split the elements into individual words with the `flatmap()` method:"
        }, 
        {
            "cell_type": "code", 
            "metadata": {}, 
            "source": "z_str_rdd_split_flatmap = z_str_rdd.flatMap(lambda line: line.split(\",\"))\nz_str_rdd_split_flatmap.collect()", 
            "outputs": [], 
            "execution_count": null
        }, 
        {
            "cell_type": "markdown", 
            "metadata": {}, 
            "source": "Convert the elements into key-value pairs:"
        }, 
        {
            "cell_type": "code", 
            "metadata": {}, 
            "source": "countWords = z_str_rdd_split_flatmap.map(lambda word:(word,1))\ncountWords.collect()", 
            "outputs": [], 
            "execution_count": null
        }, 
        {
            "cell_type": "markdown", 
            "metadata": {}, 
            "source": "Now sum all the values by key to find the number of instances for each word: "
        }, 
        {
            "cell_type": "code", 
            "metadata": {}, 
            "source": "from operator import add\ncountWords2 = countWords.reduceByKey(add)\ncountWords2.collect()", 
            "outputs": [], 
            "execution_count": null
        }, 
        {
            "cell_type": "markdown", 
            "metadata": {}, 
            "source": "Notice that the word `Line` has a count of 3."
        }, 
        {
            "cell_type": "markdown", 
            "metadata": {}, 
            "source": "<a id=\"filter\"></a>\n## 4. Filter data\n\nThe filter command creates a new RDD from another RDD based on a filter criteria.\nThe filter syntax is: \n\n`.filter(lambda line: \"Filter Criteria Value\" in line)`\n\nHint: Use a simple python `print` command to add a string to your Spark results and to run multiple actions in single cell.\n\nFind the number of instances of the word `Line` in the `z_str_rdd_split_flatmap` RDD:"
        }, 
        {
            "cell_type": "code", 
            "metadata": {}, 
            "source": "words_rd3 = z_str_rdd_split_flatmap.filter(lambda line: \"Second\" in line) \n\nprint \"The count of words \" + str(words_rd3.first())\nprint \"Is: \" + str(words_rd3.count())", 
            "outputs": [], 
            "execution_count": null
        }, 
        {
            "cell_type": "markdown", 
            "metadata": {}, 
            "source": "<a id=\"wordfile\"></a>\n## 5. Analyze text data from a file\nIn this section, you'll download a file from a URL, create an RDD from it, and analyze the text in it.\n\n<a id=\"wordfile1\"></a>\n### 5.1 Get the file from a URL\n\nYou can run shell commands by prefacing them with an exclamation point (!).\n\nRemove any files with the same name as the file that you're going to download and then load a file named `README.md` from a URL into the filesystem for Spark:"
        }, 
        {
            "cell_type": "code", 
            "metadata": {}, 
            "source": "!rm README.md* -f\n!wget https://github.com/carloapp2/SparkPOT/blob/master/README.md", 
            "outputs": [], 
            "execution_count": null
        }, 
        {
            "cell_type": "markdown", 
            "metadata": {}, 
            "source": "<a id=\"wordfile2\"></a>\n### 5.2 Create an RDD from the file\nUse the `textFile` method to create an RDD named `textfile_rdd` based on the `README.md` file. The RDD will contain one element for each line in the `README.md` file.\nAlso, count the number of lines in the RDD, which is the same as the number of lines in the text file. "
        }, 
        {
            "cell_type": "code", 
            "metadata": {}, 
            "source": "textfile_rdd = sc.textFile(\"README.md\")\ntextfile_rdd.count()", 
            "outputs": [], 
            "execution_count": null
        }, 
        {
            "cell_type": "markdown", 
            "metadata": {}, 
            "source": "<a id=\"wordfile3\"></a>\n### 5.3 Filter for a word \nFilter the RDD to keep only the elements that contain the word \"Spark\" with the `filter` transformation:"
        }, 
        {
            "cell_type": "code", 
            "metadata": {}, 
            "source": "Spark_lines = textfile_rdd.filter(lambda line: \"Spark\" in line)\nSpark_lines.first()", 
            "outputs": [], 
            "execution_count": null
        }, 
        {
            "cell_type": "markdown", 
            "metadata": {}, 
            "source": "Count the number of elements in this filtered RDD and present the result as a concatenated string:"
        }, 
        {
            "cell_type": "code", 
            "metadata": {}, 
            "source": "print \"The file README.md has \" + str(Spark_lines.count()) + \\\n\" of \" + str(textfile_rdd.count()) + \\\n\" Lines with word Spark in it.\"", 
            "outputs": [], 
            "execution_count": null
        }, 
        {
            "cell_type": "markdown", 
            "metadata": {}, 
            "source": "<a id=\"wordfile4\"></a>\n### 5.4 Count the instances of a string at the beginning of words\nCount the number of times the substring \"Spark\" appears at the beginning of a word in the original text.\n\nHere's what you need to do: \n\n1. Run a `flatMap` transformation on the Spark_lines RDD and split on white spaces.\n2. Create an RDD with key-value pairs where the first element of the tuple is the word and the second element is the number 1.\n3. Run a `reduceByKey` method with the `add` function to count the number of instances of each word.<br>\n4. Filter the resulting RDD to keep only the elements that start with the word \"Spark\". In Python, the syntax to determine whether a string starts with a token is: `string.startswith(\"token\")` \n5. Display the resulting list of elements that start with \"Spark\"."
        }, 
        {
            "cell_type": "code", 
            "metadata": {}, 
            "source": "temp = Spark_lines.flatMap(lambda line:line.split(\" \")).map(lambda x:(x,1)).reduceByKey(add)\ntemp.filter(lambda (k,v): k.startswith(\"Spark\")).collect()", 
            "outputs": [], 
            "execution_count": null
        }, 
        {
            "cell_type": "markdown", 
            "metadata": {}, 
            "source": "<a id=\"wordfile5\"></a>\n### 5.5 Count instances of a string within words\nNow filter and display the elements that contain the substring \"Spark\" anywhere in the word, instead of just at the beginning of words like the last section. Your result should be a superset of the previous result.\n\nThe Python syntax to determine whether a string contains a particular token is: `\"token\" in string`"
        }, 
        {
            "cell_type": "code", 
            "metadata": {}, 
            "source": "temp.filter(lambda (k,v): \"Spark\" in k).collect()", 
            "outputs": [], 
            "execution_count": null
        }, 
        {
            "cell_type": "markdown", 
            "metadata": {}, 
            "source": "<a id=\"numfile\"></a>\n## 6. Analyze numeric data from a file\nYou'll analyze a sample file that contains instructor names and scores. The file has the following format: Instructor Name,Score1,Score2,Score3,Score4. \nHere is an example line from the text file: \"Carlo,5,3,3,4\"\n\nAdd all scores and report on results:\n\n1. Download the file.\n1. Load the text file into an RDD.\n1. Run a transformation to create an RDD with the instructor names and the sum of the 4 scores per instructor.\n1. Run a second transformation to compute the average score for each instructor.\n1. Display the first 5 results."
        }, 
        {
            "cell_type": "code", 
            "metadata": {
                "scrolled": true
            }, 
            "source": "!rm Scores.txt* -f\n!wget https://raw.githubusercontent.com/carloapp2/SparkPOT/master/Scores.txt\n \nRaw_Rdd = sc.textFile(\"Scores.txt\")\n\nSumScores = Raw_Rdd.map(lambda l: l.split(\",\")).\\\nmap(lambda v : (v[0], int(v[1])+int(v[2])+int(v[3])+int(v[4])))\n\nFinal = SumScores.map(lambda avg: (avg[0],avg[1],avg[1]/4.0))\n\nFinal.take(5)", 
            "outputs": [], 
            "execution_count": null
        }, 
        {
            "cell_type": "markdown", 
            "metadata": {
                "collapsed": true
            }, 
            "source": "<a id=\"summary\"></a>\n## 7. Summary and next steps\n\nYou've learned how to work with data in RDDs to discover useful information.\n\nLook for the other notebooks in this __Introduction to Apache Spark__ series on SQL queries and machine learning. \n\nDig deeper:\n - [Apache Spark documentation](http://spark.apache.org/documentation.html)\n - [PySpark documentation](http://spark.apache.org/docs/latest/api/python/pyspark.html)"
        }, 
        {
            "cell_type": "markdown", 
            "metadata": {}, 
            "source": "### Author\nCarlo Appugliese is a Spark and Hadoop evangelist at IBM."
        }, 
        {
            "cell_type": "code", 
            "metadata": {}, 
            "source": "", 
            "outputs": [], 
            "execution_count": null
        }
    ], 
    "metadata": {
        "kernelspec": {
            "display_name": "Python 2 with Spark 2.0", 
            "name": "python2-spark20", 
            "language": "python"
        }, 
        "language_info": {
            "codemirror_mode": {
                "version": 2, 
                "name": "ipython"
            }, 
            "nbconvert_exporter": "python", 
            "file_extension": ".py", 
            "name": "python", 
            "mimetype": "text/x-python", 
            "version": "2.7.11", 
            "pygments_lexer": "ipython2"
        }
    }, 
    "nbformat_minor": 1
}